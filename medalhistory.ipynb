{
 "cells": [
  {
   "cell_type": "code",
   "execution_count": null,
   "id": "085af618-e7d4-4ab9-8335-704a199a9701",
   "metadata": {},
   "outputs": [],
   "source": [
    "import pandas as pd\n",
    "import numpy as np"
   ]
  },
  {
   "cell_type": "markdown",
   "id": "662c3904-ab58-496a-9689-66dc1017b6f5",
   "metadata": {
    "tags": []
   },
   "source": [
    "### Reading Data and preparing it"
   ]
  },
  {
   "cell_type": "code",
   "execution_count": null,
   "id": "92dedb83-e283-48df-8978-9176cd9cb8c6",
   "metadata": {},
   "outputs": [],
   "source": [
    "df = pd.read_csv('athlete_events.csv')\n",
    "regions = pd.read_csv('noc_regions.csv')\n",
    "df_21 = pd.read_csv('Tokyo_2021_dataset.csv')"
   ]
  },
  {
   "cell_type": "code",
   "execution_count": null,
   "id": "99380c61-d5dc-4f9a-a297-c64883f505e1",
   "metadata": {},
   "outputs": [],
   "source": [
    "# Merge results with the region dataset\n",
    "df = pd.merge(df, regions, left_on='NOC', right_on='NOC')\n",
    "df = df.query('Season == \"Summer\"') # only interested in summer Olympics in this project"
   ]
  },
  {
   "cell_type": "code",
   "execution_count": null,
   "id": "9543bbc0-710e-4d9f-8bda-4aca3e31825e",
   "metadata": {
    "tags": []
   },
   "outputs": [],
   "source": [
    "# Replacing the country name with common known names\n",
    "df.replace('USA', \"United States of America\", inplace = True)\n",
    "df.replace('Tanzania', \"United Republic of Tanzania\", inplace = True)\n",
    "df.replace('Democratic Republic of Congo', \"Democratic Republic of the Congo\", inplace = True)\n",
    "df.replace('Congo', \"Republic of the Congo\", inplace = True)\n",
    "df.replace('Lao', \"Laos\", inplace = True)\n",
    "df.replace('Syrian Arab Republic', \"Syria\", inplace = True)\n",
    "df.replace('Serbia', \"Republic of Serbia\", inplace = True)\n",
    "df.replace('Czechia', \"Czech Republic\", inplace = True)\n",
    "df.replace('UAE', \"United Arab Emirates\", inplace = True)\n",
    "df.replace('UK', \"United Kingdom\", inplace = True)\n",
    "df_21.replace('Great Britain', \"United Kingdom\", inplace = True)\n",
    "df_21.replace(\"People's Republic of China\", \"China\", inplace = True)\n",
    "df_21.replace(\"ROC\", \"Russia\", inplace = True)"
   ]
  },
  {
   "cell_type": "code",
   "execution_count": null,
   "id": "ee59c68d-0859-47f8-a025-ca5e37871af2",
   "metadata": {},
   "outputs": [],
   "source": [
    "def host_country(col):\n",
    "    if col == \"Rio de Janeiro\":\n",
    "        return \"Brazil\"\n",
    "    elif col == \"London\":\n",
    "        return \"United Kingdom\"\n",
    "    elif col == \"Beijing\":\n",
    "        return  \"China\"\n",
    "    elif col == \"Athina\":\n",
    "        return  \"Greece\"\n",
    "    elif col == \"Sydney\" or col == \"Melbourne\":\n",
    "        return  \"Australia\"\n",
    "    elif col == \"Atlanta\" or col == \"Los Angeles\" or col == \"St. Louis\":\n",
    "        return  \"United States of America\"\n",
    "    elif col == \"Barcelona\":\n",
    "        return  \"Spain\"\n",
    "    elif col == \"Seoul\":\n",
    "        return  \"South Korea\"\n",
    "    elif col == \"Moskva\":\n",
    "        return  \"Russia\"\n",
    "    elif col == \"Montreal\":\n",
    "        return  \"Canada\"\n",
    "    elif col == \"Munich\" or col == \"Berlin\":\n",
    "        return  \"Germany\"\n",
    "    elif col == \"Mexico City\":\n",
    "        return  \"Mexico\"\n",
    "    elif col == \"Tokyo\":\n",
    "        return  \"Japan\"\n",
    "    elif col == \"Roma\":\n",
    "        return  \"Italy\"\n",
    "    elif col == \"Paris\":\n",
    "        return  \"France\"\n",
    "    elif col == \"Helsinki\":\n",
    "        return  \"Finland\"\n",
    "    elif col == \"Amsterdam\":\n",
    "        return  \"Netherlands\"\n",
    "    elif col == \"Antwerpen\":\n",
    "        return  \"Belgium\"\n",
    "    elif col == \"Stockholm\":\n",
    "        return  \"Sweden\"\n",
    "    else:\n",
    "        return \"Other\"\n",
    "\n",
    "\n",
    "# Applying this function\n",
    "\n",
    "df['Host_Country'] = df['City'].apply(host_country)"
   ]
  },
  {
   "cell_type": "code",
   "execution_count": null,
   "id": "b5101748-03ea-4818-921a-b5075c80a40c",
   "metadata": {},
   "outputs": [],
   "source": [
    "df_new = df.groupby(['Year','Host_Country','region','Medal'])['Medal'].count().unstack().fillna(0).astype(int).reset_index()\n",
    "\n",
    "df_new['Is_Host'] = np.where(df_new['Host_Country'] == df_new['region'],1,0)\n",
    "df_new['Total Medals'] = df_new['Bronze'] + df_new['Silver'] + df_new['Gold']"
   ]
  },
  {
   "cell_type": "code",
   "execution_count": null,
   "id": "35c440bb-8b44-452d-a3cf-5b90633bd58c",
   "metadata": {},
   "outputs": [],
   "source": [
    "# Preparing DF 2021 Dataset\n",
    "\n",
    "df_21_refined = df_21[['Team/NOC', \"Gold Medal\", \"Silver Medal\", \"Bronze Medal\"]]\n",
    "df_21_refined['Total Medals'] = df_21_refined[[\"Gold Medal\", \"Silver Medal\", \"Bronze Medal\"]].sum(axis=1)\n",
    "df_21_refined['Year'] = 2021\n",
    "\n",
    "df_21_refined = df_21_refined.rename(columns={'Gold Medal':'Gold', 'Silver Medal':'Silver','Bronze Medal':'Bronze'})\n",
    "\n",
    "df_21_refined['Is_Host'] = np.where(df_21_refined['Team/NOC'] == 'Japan',1,0)\n",
    "df_21_refined['Host_Country'] = 'Japan'\n",
    "df_21_refined = df_21_refined.rename(columns={'Team/NOC':'region'})\n",
    "\n",
    "# Adding 2021 data to historic\n",
    "df_full = pd.concat([df_new, df_21_refined])"
   ]
  },
  {
   "cell_type": "code",
   "execution_count": null,
   "id": "4ffb196b-3572-457c-9288-f0eb2e8ace79",
   "metadata": {},
   "outputs": [],
   "source": [
    "df_full"
   ]
  },
  {
   "cell_type": "markdown",
   "id": "73fa816f-59b3-4724-b895-23dcd1659252",
   "metadata": {},
   "source": [
    "### 2021 Olympics"
   ]
  },
  {
   "cell_type": "code",
   "execution_count": null,
   "id": "55c6c6db-a938-4f17-ba27-dbe981c27d4f",
   "metadata": {},
   "outputs": [],
   "source": [
    "import plotly.express as px\n",
    "import plotly.graph_objects as go"
   ]
  },
  {
   "cell_type": "code",
   "execution_count": null,
   "id": "638b6fbb-a039-49ff-a31e-a3fa3ad6fe44",
   "metadata": {},
   "outputs": [],
   "source": [
    "import matplotlib\n",
    "import matplotlib.pyplot as plt"
   ]
  },
  {
   "cell_type": "code",
   "execution_count": null,
   "id": "687a3964-ad1e-40e5-b6cc-f36f0c294c8e",
   "metadata": {},
   "outputs": [],
   "source": [
    "df_fig1 = df_full[df_full['Year'] == 2021]\n",
    "df_fig1 = df_fig1.sort_values(by = ['Total Medals'], ascending = False).iloc[0:10].reset_index()\n",
    "df_fig1['index_column'] = df_fig1.index"
   ]
  },
  {
   "cell_type": "code",
   "execution_count": null,
   "id": "308c7397-1ecc-45bc-a71e-23d73baa2cf7",
   "metadata": {},
   "outputs": [],
   "source": [
    "background_color = '#ECE7E2'"
   ]
  },
  {
   "cell_type": "code",
   "execution_count": null,
   "id": "a086a028-0fd2-4c18-a1af-2b26a4ec41a2",
   "metadata": {},
   "outputs": [],
   "source": [
    "def remove_overlapping(linelength, is_host):\n",
    "    \n",
    "    print(linelength)\n",
    "    if is_host == 1:\n",
    "        return linelength - 2.2\n",
    "    else:\n",
    "        return linelength - 1"
   ]
  },
  {
   "cell_type": "code",
   "execution_count": null,
   "id": "2b493dd3-d79a-47df-af77-fe1cb342fea0",
   "metadata": {},
   "outputs": [],
   "source": [
    "# Draw points\n",
    "data = [\n",
    "    go.Scatter(\n",
    "        x=df_fig1['Total Medals'],\n",
    "        y=df_fig1['region'],\n",
    "        mode='markers',\n",
    "        marker=dict(color='#2C4545', size=15)\n",
    "    ),\n",
    "    \n",
    "    go.Scatter(\n",
    "        x=[df_fig1['Total Medals'][4]],\n",
    "        y=[df_fig1['region'][4]],\n",
    "        mode='markers',\n",
    "        marker=dict(color='red', size=25)\n",
    "    )\n",
    "]\n",
    "\n",
    "layout = go.Layout(\n",
    "    title_text= 'Total Medals 2021 - Top 10 Countries',\n",
    "    title_font_size= 30,\n",
    "    width= 800,\n",
    "    height= 550,\n",
    "    plot_bgcolor= background_color\n",
    ")\n",
    "\n",
    "fig1 = go.Figure(data, layout)\n",
    "\n",
    "# Draw lines\n",
    "for i in range(0, len(df_fig1)):\n",
    "    if df_fig1['Is_Host'][i] == 0:\n",
    "        fig1.add_shape(type='line',\n",
    "                       x0 = 0, y0 = i,\n",
    "                       x1 = df_fig1['Total Medals'][i],\n",
    "                       y1 = i,\n",
    "                       line=dict(color='#2C4545', width = 1))\n",
    "    else:\n",
    "        fig1.add_shape(type='line',\n",
    "                   x0 = 0, y0 = i,\n",
    "                   x1 = df_fig1['Total Medals'][i],\n",
    "                   y1 = i,\n",
    "                   line=dict(color='red', width = 1))\n",
    "\n",
    "fig1.update(layout_showlegend=False)\n",
    "fig1.update_xaxes(title = 'Total Medals', range=[0, max(df_fig1['Total Medals']) + 5], showgrid=False)\n",
    "fig1.update_yaxes(showgrid=False)\n",
    "\n",
    "fig1.show(config={'displayModeBar': False})"
   ]
  }
 ],
 "metadata": {
  "kernelspec": {
   "display_name": "Python 3 (ipykernel)",
   "language": "python",
   "name": "python3"
  },
  "language_info": {
   "codemirror_mode": {
    "name": "ipython",
    "version": 3
   },
   "file_extension": ".py",
   "mimetype": "text/x-python",
   "name": "python",
   "nbconvert_exporter": "python",
   "pygments_lexer": "ipython3",
   "version": "3.10.4"
  }
 },
 "nbformat": 4,
 "nbformat_minor": 5
}
