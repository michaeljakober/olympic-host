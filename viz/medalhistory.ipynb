{
 "cells": [
  {
   "cell_type": "code",
   "execution_count": null,
   "id": "085af618-e7d4-4ab9-8335-704a199a9701",
   "metadata": {},
   "outputs": [],
   "source": [
    "import pandas as pd\n",
    "import numpy as np"
   ]
  },
  {
   "cell_type": "markdown",
   "id": "662c3904-ab58-496a-9689-66dc1017b6f5",
   "metadata": {
    "jp-MarkdownHeadingCollapsed": true,
    "tags": []
   },
   "source": [
    "### Reading Data and preparing it"
   ]
  },
  {
   "cell_type": "code",
   "execution_count": null,
   "id": "92dedb83-e283-48df-8978-9176cd9cb8c6",
   "metadata": {},
   "outputs": [],
   "source": [
    "df = pd.read_csv('../data/athlete_events.csv')\n",
    "regions = pd.read_csv('../data/noc_regions.csv')\n",
    "df_21 = pd.read_csv('../data/Tokyo_2021_dataset.csv')"
   ]
  },
  {
   "cell_type": "code",
   "execution_count": null,
   "id": "99380c61-d5dc-4f9a-a297-c64883f505e1",
   "metadata": {},
   "outputs": [],
   "source": [
    "# Merge results with the region dataset\n",
    "df = pd.merge(df, regions, left_on='NOC', right_on='NOC')\n",
    "df = df.query('Season == \"Summer\"') # only interested in summer Olympics in this project"
   ]
  },
  {
   "cell_type": "code",
   "execution_count": null,
   "id": "9543bbc0-710e-4d9f-8bda-4aca3e31825e",
   "metadata": {
    "tags": []
   },
   "outputs": [],
   "source": [
    "# Replacing the country name with common known names\n",
    "df.replace('USA', \"United States of America\", inplace = True)\n",
    "df.replace('Tanzania', \"United Republic of Tanzania\", inplace = True)\n",
    "df.replace('Democratic Republic of Congo', \"Democratic Republic of the Congo\", inplace = True)\n",
    "df.replace('Congo', \"Republic of the Congo\", inplace = True)\n",
    "df.replace('Lao', \"Laos\", inplace = True)\n",
    "df.replace('Syrian Arab Republic', \"Syria\", inplace = True)\n",
    "df.replace('Serbia', \"Republic of Serbia\", inplace = True)\n",
    "df.replace('Czechia', \"Czech Republic\", inplace = True)\n",
    "df.replace('UAE', \"United Arab Emirates\", inplace = True)\n",
    "df.replace('UK', \"United Kingdom\", inplace = True)\n",
    "df_21.replace('Great Britain', \"United Kingdom\", inplace = True)\n",
    "df_21.replace(\"People's Republic of China\", \"China\", inplace = True)\n",
    "df_21.replace(\"ROC\", \"Russia\", inplace = True)"
   ]
  },
  {
   "cell_type": "code",
   "execution_count": null,
   "id": "ee59c68d-0859-47f8-a025-ca5e37871af2",
   "metadata": {},
   "outputs": [],
   "source": [
    "def host_country(col):\n",
    "    if col == \"Rio de Janeiro\":\n",
    "        return \"Brazil\"\n",
    "    elif col == \"London\":\n",
    "        return \"United Kingdom\"\n",
    "    elif col == \"Beijing\":\n",
    "        return  \"China\"\n",
    "    elif col == \"Athina\":\n",
    "        return  \"Greece\"\n",
    "    elif col == \"Sydney\" or col == \"Melbourne\":\n",
    "        return  \"Australia\"\n",
    "    elif col == \"Atlanta\" or col == \"Los Angeles\" or col == \"St. Louis\":\n",
    "        return  \"United States of America\"\n",
    "    elif col == \"Barcelona\":\n",
    "        return  \"Spain\"\n",
    "    elif col == \"Seoul\":\n",
    "        return  \"South Korea\"\n",
    "    elif col == \"Moskva\":\n",
    "        return  \"Russia\"\n",
    "    elif col == \"Montreal\":\n",
    "        return  \"Canada\"\n",
    "    elif col == \"Munich\" or col == \"Berlin\":\n",
    "        return  \"Germany\"\n",
    "    elif col == \"Mexico City\":\n",
    "        return  \"Mexico\"\n",
    "    elif col == \"Tokyo\":\n",
    "        return  \"Japan\"\n",
    "    elif col == \"Roma\":\n",
    "        return  \"Italy\"\n",
    "    elif col == \"Paris\":\n",
    "        return  \"France\"\n",
    "    elif col == \"Helsinki\":\n",
    "        return  \"Finland\"\n",
    "    elif col == \"Amsterdam\":\n",
    "        return  \"Netherlands\"\n",
    "    elif col == \"Antwerpen\":\n",
    "        return  \"Belgium\"\n",
    "    elif col == \"Stockholm\":\n",
    "        return  \"Sweden\"\n",
    "    else:\n",
    "        return \"Other\"\n",
    "\n",
    "\n",
    "# Applying this function\n",
    "\n",
    "df['Host_Country'] = df['City'].apply(host_country)"
   ]
  },
  {
   "cell_type": "code",
   "execution_count": null,
   "id": "b5101748-03ea-4818-921a-b5075c80a40c",
   "metadata": {},
   "outputs": [],
   "source": [
    "df_new = df.groupby(['Year','Host_Country','region','Medal'])['Medal'].count().unstack().fillna(0).astype(int).reset_index()\n",
    "\n",
    "df_new['Is_Host'] = np.where(df_new['Host_Country'] == df_new['region'],1,0)\n",
    "df_new['Total Medals'] = df_new['Bronze'] + df_new['Silver'] + df_new['Gold']"
   ]
  },
  {
   "cell_type": "code",
   "execution_count": null,
   "id": "35c440bb-8b44-452d-a3cf-5b90633bd58c",
   "metadata": {},
   "outputs": [],
   "source": [
    "# Preparing DF 2021 Dataset\n",
    "\n",
    "df_21_refined = df_21[['Team/NOC', \"Gold Medal\", \"Silver Medal\", \"Bronze Medal\"]]\n",
    "df_21_refined['Total Medals'] = df_21_refined[[\"Gold Medal\", \"Silver Medal\", \"Bronze Medal\"]].sum(axis=1)\n",
    "df_21_refined['Year'] = 2021\n",
    "\n",
    "df_21_refined = df_21_refined.rename(columns={'Gold Medal':'Gold', 'Silver Medal':'Silver','Bronze Medal':'Bronze'})\n",
    "\n",
    "df_21_refined['Is_Host'] = np.where(df_21_refined['Team/NOC'] == 'Japan',1,0)\n",
    "df_21_refined['Host_Country'] = 'Japan'\n",
    "df_21_refined = df_21_refined.rename(columns={'Team/NOC':'region'})\n",
    "\n",
    "# Adding 2021 data to historic\n",
    "df_full = pd.concat([df_new, df_21_refined])"
   ]
  },
  {
   "cell_type": "code",
   "execution_count": null,
   "id": "4ffb196b-3572-457c-9288-f0eb2e8ace79",
   "metadata": {},
   "outputs": [],
   "source": [
    "df_full"
   ]
  },
  {
   "cell_type": "code",
   "execution_count": null,
   "id": "2c2fad51-12fd-4d16-a626-7a63c587084e",
   "metadata": {},
   "outputs": [],
   "source": [
    "china_data = {'Year':['2022','2018', '2014', '2010', '2006', '2002'],'Total Medals':[61, 1, 0, 0, 0, 0]}\n",
    "\n",
    "df_china_paralympics = pd.DataFrame(china_data)"
   ]
  },
  {
   "cell_type": "code",
   "execution_count": null,
   "id": "308c7397-1ecc-45bc-a71e-23d73baa2cf7",
   "metadata": {},
   "outputs": [],
   "source": [
    "background_color = '#ECE7E2'\n",
    "primary_color = '#2C4545'\n",
    "secondary_color = '#B57B68'"
   ]
  },
  {
   "cell_type": "markdown",
   "id": "9d50f919-6f4b-4ba5-8a4e-61226115d88a",
   "metadata": {
    "jp-MarkdownHeadingCollapsed": true,
    "tags": []
   },
   "source": [
    "### China in paralympics"
   ]
  },
  {
   "cell_type": "markdown",
   "id": "1dc21826-87f6-45c5-8935-d8c7af149566",
   "metadata": {},
   "source": [
    "Source: https://en.wikipedia.org/wiki/China_at_the_Paralympics#Medals_by_Winter_Games"
   ]
  },
  {
   "cell_type": "markdown",
   "id": "273819c2-4ba0-4af0-9a7f-80da85a075e0",
   "metadata": {},
   "source": [
    "China first participated in the Winter Olympics in 2002, won their first medal in 2018 and won 61 more in 2022 when they hosted the games."
   ]
  },
  {
   "cell_type": "code",
   "execution_count": null,
   "id": "3dcb12a1-5293-41fb-8464-a40b0c5475e2",
   "metadata": {},
   "outputs": [],
   "source": [
    "data = [\n",
    "    go.Pie(labels=df_china_paralympics['Year'][:2],\n",
    "           values=df_china_paralympics['Total Medals'][:2],\n",
    "           marker_colors=[primary_color, secondary_color])\n",
    "]\n",
    "\n",
    "layout = go.Layout(\n",
    "    title_text = 'Distribution of the Medals won of China over the years',\n",
    "    title_font_size = 25,\n",
    "    width = 800,\n",
    "    height = 550,\n",
    "    paper_bgcolor = background_color\n",
    ")\n",
    "\n",
    "fig1 = go.Figure(data, layout)\n",
    "\n",
    "fig1.update_xaxes(title = 'Medal-Distribution')\n",
    "\n",
    "fig1.show(config={'displayModeBar': False})"
   ]
  },
  {
   "cell_type": "markdown",
   "id": "b90aed93-786c-49d5-b54e-a7a8d1b7f855",
   "metadata": {},
   "source": [
    "As you can see, they won over 98% of all their medals in this years Winter Paralympics. While we can speculate if their athletes just worked that hard or if something else is the reason here, it got me interested if hosting the olympics had a influence of the medals as well. In the following Visualizations I limited the data to just the summer olympics, as it seems more popular across the whole earth and all continents."
   ]
  },
  {
   "cell_type": "markdown",
   "id": "73fa816f-59b3-4724-b895-23dcd1659252",
   "metadata": {
    "jp-MarkdownHeadingCollapsed": true,
    "tags": []
   },
   "source": [
    "### 2021 Olympics"
   ]
  },
  {
   "cell_type": "code",
   "execution_count": null,
   "id": "55c6c6db-a938-4f17-ba27-dbe981c27d4f",
   "metadata": {},
   "outputs": [],
   "source": [
    "import plotly.express as px\n",
    "import plotly.graph_objects as go"
   ]
  },
  {
   "cell_type": "code",
   "execution_count": null,
   "id": "638b6fbb-a039-49ff-a31e-a3fa3ad6fe44",
   "metadata": {},
   "outputs": [],
   "source": [
    "import matplotlib\n",
    "import matplotlib.pyplot as plt"
   ]
  },
  {
   "cell_type": "code",
   "execution_count": null,
   "id": "687a3964-ad1e-40e5-b6cc-f36f0c294c8e",
   "metadata": {},
   "outputs": [],
   "source": [
    "df_fig2 = df_full[df_full['Year'] == 2021]\n",
    "df_fig2 = df_fig2.sort_values(by = ['Total Medals'], ascending = False).iloc[0:10].reset_index()\n",
    "df_fig2['index_column'] = df_fig2.index"
   ]
  },
  {
   "cell_type": "code",
   "execution_count": null,
   "id": "2b493dd3-d79a-47df-af77-fe1cb342fea0",
   "metadata": {},
   "outputs": [],
   "source": [
    "# Draw points\n",
    "data = [\n",
    "    go.Scatter(\n",
    "        name='',\n",
    "        x=df_fig2['Total Medals'],\n",
    "        y=df_fig2['region'],\n",
    "        mode='markers',\n",
    "        marker=dict(color=primary_color, size=15)\n",
    "    ),\n",
    "    \n",
    "    go.Scatter(\n",
    "        name='',\n",
    "        x=[df_fig2['Total Medals'][4]],\n",
    "        y=[df_fig2['region'][4]],\n",
    "        mode='markers',\n",
    "        marker=dict(color=secondary_color, size=25)\n",
    "    )\n",
    "]\n",
    "\n",
    "layout = go.Layout(\n",
    "    title_text = 'Total Medals 2021 - Top 10 Countries',\n",
    "    title_font_size = 30,\n",
    "    width = 800,\n",
    "    height = 550,\n",
    "    plot_bgcolor = background_color\n",
    ")\n",
    "\n",
    "fig2 = go.Figure(data, layout)\n",
    "\n",
    "# Draw lines\n",
    "for i in range(0, len(df_fig2)):\n",
    "    if df_fig2['Is_Host'][i] == 0:\n",
    "        fig2.add_shape(type='line',\n",
    "                       x0 = 0, y0 = i,\n",
    "                       x1 = df_fig2['Total Medals'][i],\n",
    "                       y1 = i,\n",
    "                       line=dict(color=primary_color, width = 1))\n",
    "    else:\n",
    "        fig2.add_shape(type='line',\n",
    "                   x0 = 0, y0 = i,\n",
    "                   x1 = df_fig2['Total Medals'][i],\n",
    "                   y1 = i,\n",
    "                   line=dict(color=secondary_color, width = 1))\n",
    "\n",
    "        \n",
    "anno1 = {\n",
    "    'x': 62, # end of the arrow\n",
    "    'y': 4.3,\n",
    "    'xref': 'x', \n",
    "    'yref': 'y', \n",
    "    'text': 'In 2021,<br />Japan got 58 Medals,<br />which saw them ending<br />the olympics in 5. Place',\n",
    "    'font': {'size': 12, 'color': primary_color}, \n",
    "    'arrowhead': 2, \n",
    "    'arrowsize': 1, \n",
    "    'arrowwidth': 2, \n",
    "    'arrowcolor': primary_color,\n",
    "    'ax': 100, # start of the arrow / text position  \n",
    "    'ay': 8, \n",
    "    'axref': 'x', \n",
    "    'ayref': 'y'\n",
    "}\n",
    "fig2.add_annotation(anno1)\n",
    "\n",
    "anno2 = {\n",
    "    'text': '58',\n",
    "    'font': {'size': 12, 'color': 'white'}, \n",
    "    'ax': 58,\n",
    "    'ay': 4, \n",
    "    'x': 58,\n",
    "    'y': 4, \n",
    "    'axref': 'x', \n",
    "    'ayref': 'y',\n",
    "}\n",
    "fig2.add_annotation(anno2)\n",
    "\n",
    "fig2.update(layout_showlegend=False)\n",
    "fig2.update_xaxes(title = 'Total Medals', range=[0, max(df_fig2['Total Medals']) + 5], showgrid=False, fixedrange = True)\n",
    "fig2.update_yaxes(showgrid=False, fixedrange = True)\n",
    "\n",
    "fig2.show(config={'displayModeBar': False})"
   ]
  },
  {
   "cell_type": "markdown",
   "id": "83a3edb6-f7b1-4ad1-9bfb-2265ce1d00d9",
   "metadata": {},
   "source": [
    "I wanted to take red as the highlighting color, because its good visible and the red dot fits to the japanese flag, but I found out that you cant hardly differentiate red and the dark-blue with monochromatic vision [1] , which around 1 in 30'000 People have. Which this lighter brown-red color, the contrast gets better to the dark blue and it should be visible with all kind of color-blindness.\n",
    "\n",
    "[1]=https://en.wikipedia.org/wiki/Monochromacy"
   ]
  },
  {
   "cell_type": "markdown",
   "id": "ff9fe919-cbd8-4a8e-b670-72a52a32715e",
   "metadata": {
    "jp-MarkdownHeadingCollapsed": true,
    "tags": []
   },
   "source": [
    "### Comparing to non-Hosting Years"
   ]
  },
  {
   "cell_type": "markdown",
   "id": "950044be-f21f-4add-9483-f2de51f6aca4",
   "metadata": {},
   "source": [
    "But how does this compare to the years, when a country isn't hosting the olympics. For that, we take the Top 15 Nations of all time and calculate their average total Medal count and the average when hosting the olympics."
   ]
  },
  {
   "cell_type": "code",
   "execution_count": null,
   "id": "5cc7d6b9-225d-4068-9e42-ae0e3056e6b5",
   "metadata": {},
   "outputs": [],
   "source": [
    "top15_df = df_new.groupby('region')['Total Medals'].mean().sort_values(ascending=False).reset_index()[:15].sort_values(by='Total Medals',ascending=True)"
   ]
  },
  {
   "cell_type": "code",
   "execution_count": null,
   "id": "e5f75c55-4805-4b4c-9b82-990f6017f9b6",
   "metadata": {},
   "outputs": [],
   "source": [
    "# Draw mean points\n",
    "layout = go.Layout(\n",
    "    title_text = 'Medals over the Years for Top 15 Countries,<br />with Average and Hosting Years highlighted',\n",
    "    title_font_size = 20,\n",
    "    title_xanchor = 'center',\n",
    "    title_x = 0.5,\n",
    "    width = 1000,\n",
    "    height = 600,\n",
    "    plot_bgcolor = background_color,\n",
    ")\n",
    "\n",
    "fig3 = go.Figure(layout=layout)\n",
    "\n",
    "for country in top15_df['region']:\n",
    "    \n",
    "    # Add history-data\n",
    "    hosting_medals = df_new[(df_new['region'] == country)]['Total Medals']\n",
    "    country_array = [country] * hosting_medals.size\n",
    "    fig3.add_trace(\n",
    "        go.Scatter(\n",
    "            name='',\n",
    "            x=country_array,\n",
    "            y=hosting_medals,\n",
    "            mode='markers',\n",
    "            marker=dict(color='lightgray', size=7)\n",
    "        )\n",
    "    )\n",
    "    \n",
    "    # Add hostingpoints\n",
    "    hosting_medals = df_new[(df_new['region'] == country) & (df_new['Is_Host'] == 1)]['Total Medals']\n",
    "    country_array = [country] * hosting_medals.size\n",
    "    fig3.add_trace(\n",
    "        go.Scatter(\n",
    "            name='',\n",
    "            x=country_array,\n",
    "            y=hosting_medals,\n",
    "            mode='markers',\n",
    "            marker=dict(color=secondary_color, size=12),\n",
    "            hovertemplate= '%{y} Medals when hosting'\n",
    "        )\n",
    "    )\n",
    "\n",
    "# Add Average Points\n",
    "fig3.add_trace(\n",
    "    go.Scatter(\n",
    "        name='',\n",
    "        x=top15_df['region'],\n",
    "        y=top15_df['Total Medals'],\n",
    "        mode='markers',\n",
    "        marker=dict(color=primary_color, size=12),\n",
    "        hovertemplate= '%{y} Medals on Average'\n",
    "    )\n",
    ")\n",
    "\n",
    "anno1 = {\n",
    "    'x': 3.9, # end of the arrow\n",
    "    'y': 55,\n",
    "    'xref': 'x', \n",
    "    'yref': 'y', \n",
    "    'text': 'Average Medals',\n",
    "    'font': {'size': 15, 'color': primary_color}, \n",
    "    'arrowhead': 2, \n",
    "    'arrowsize': 1, \n",
    "    'arrowwidth': 2, \n",
    "    'arrowcolor': primary_color,\n",
    "    'ax': 2, # start of the arrow / text position  \n",
    "    'ay': 300, \n",
    "    'axref': 'x', \n",
    "    'ayref': 'y'\n",
    "}\n",
    "\n",
    "anno2 = {\n",
    "    'x': 4.1, # end of the arrow\n",
    "    'y': 205,\n",
    "    'xref': 'x', \n",
    "    'yref': 'y', \n",
    "    'text': 'Medals when hosting the Olympics',\n",
    "    'font': {'size': 15, 'color': secondary_color}, \n",
    "    'arrowhead': 2, \n",
    "    'arrowsize': 1, \n",
    "    'arrowwidth': 2, \n",
    "    'arrowcolor': secondary_color,\n",
    "    'ax': 6, # start of the arrow / text position  \n",
    "    'ay': 450, \n",
    "    'axref': 'x', \n",
    "    'ayref': 'y'\n",
    "}\n",
    "\n",
    "fig3.add_annotation(anno1)\n",
    "fig3.add_annotation(anno2)\n",
    "\n",
    "fig3.update(layout_showlegend=False)\n",
    "fig3.update_xaxes(title = 'Comparing Average Medals with Medals when Hosting', showgrid=True, gridcolor='lightgray', fixedrange = True)\n",
    "fig3.update_yaxes(showgrid=False, fixedrange = True, range=[0, 500])\n",
    "\n",
    "fig3.show(config={'displayModeBar': False})"
   ]
  },
  {
   "cell_type": "markdown",
   "id": "b2f7ed1c-128e-4df4-9b53-b49f65794184",
   "metadata": {},
   "source": [
    "As can be seen here, with some few exceptions like Sweden once and the United Kingdom once, the hosting Years seem to be mostly clearly higher than the average.\n",
    "As we can see here as well, is that on average, Japan is only on 10th Position, in contrast to their 2021 campaign, where they ended the olympics in 5th Place."
   ]
  }
 ],
 "metadata": {
  "kernelspec": {
   "display_name": "Python 3 (ipykernel)",
   "language": "python",
   "name": "python3"
  },
  "language_info": {
   "codemirror_mode": {
    "name": "ipython",
    "version": 3
   },
   "file_extension": ".py",
   "mimetype": "text/x-python",
   "name": "python",
   "nbconvert_exporter": "python",
   "pygments_lexer": "ipython3",
   "version": "3.10.4"
  }
 },
 "nbformat": 4,
 "nbformat_minor": 5
}
